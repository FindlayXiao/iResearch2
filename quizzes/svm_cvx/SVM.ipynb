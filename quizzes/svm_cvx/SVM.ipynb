{
 "cells": [
  {
   "cell_type": "code",
   "execution_count": null,
   "metadata": {},
   "outputs": [],
   "source": [
    "import cvxpy as cp\n",
    "import numpy as np\n",
    "import pandas as pd\n",
    "import matplotlib as mpl\n",
    "import matplotlib.pyplot as plt\n",
    "\n",
    "def ReadData(X_file, y_file):\n",
    "    X = np.loadtxt(X_file)\n",
    "    y = np.loadtxt(y_file)\n",
    "    yhat = [2*float(i)-1. for i in y]\n",
    "    return X, yhat, X.shape[0], X.shape[1]\n",
    "\n",
    "X, y, m, n = ReadData('q1x.txt', 'q1y.txt')"
   ]
  },
  {
   "cell_type": "code",
   "execution_count": null,
   "metadata": {},
   "outputs": [],
   "source": [
    "w = cp.Variable(n)\n",
    "b = cp.Variable(1)\n",
    "xi = cp.Variable(m)"
   ]
  },
  {
   "cell_type": "code",
   "execution_count": null,
   "metadata": {},
   "outputs": [],
   "source": [
    "def PlotData(w,b):\n",
    "    xp = np.linspace(np.min(X[:,0]), np.max(X[:,0]), 100)\n",
    "    yp = - (w[0].value*xp + b.value)/w[1].value\n",
    "    yp1 = - (w[0].value*xp + b.value - 1)/w[1].value\n",
    "    yp0 = - (w[0].value*xp + b.value + 1)/w[1].value\n",
    "    \n",
    "    XX, yy = pd.DataFrame(X), pd.DataFrame(y)\n",
    "    XX1, XX2 = XX[yy[0]==1], XX[yy[0]==-1]\n",
    "    \n",
    "    plt.scatter(XX1[0],XX1[1],color='blue')\n",
    "    plt.scatter(XX2[0],XX2[1],color='red')\n",
    "    plt.plot(xp,yp,'k-',xp,yp1,'m--',xp,yp0,'g--')\n",
    "    plt.show()"
   ]
  },
  {
   "cell_type": "markdown",
   "metadata": {},
   "source": [
    "### Soft Margin SVM\n",
    "\n",
    "minimize \n",
    "> $\\frac { 1 } { 2 } \\| \\mathbf { w } \\| _ { 2 } ^ { 2 } + C \\sum _ { i = 1 } ^ { N } \\xi _ { i }$\n",
    "\n",
    "subject to \n",
    "> $y _ { i } \\left( \\mathbf { w } ^ { T } \\mathbf { x } _ { i } + b \\right) \\geq 1 - \\xi _ { i } , i = 1 , \\cdots , N$ and $\\xi _ { i } \\geq 0$"
   ]
  },
  {
   "cell_type": "code",
   "execution_count": null,
   "metadata": {},
   "outputs": [],
   "source": [
    "C = 1.\n",
    "\n",
    "objective = cp.Minimize(0.5*cp.sum_squares(w)+C*cp.sum_entries(xi))\n",
    "constraints = [y[i]*((X*w)[i]+b) >= 1-xi[i] for i in range(m)]\n",
    "constraints.append(xi >= 0)\n",
    "\n",
    "prob = cp.Problem(objective, constraints)\n",
    "\n",
    "try:\n",
    "    result = prob.solve()\n",
    "    PlotData(w,b)\n",
    "except Exception as exc:\n",
    "    print('{}'.format(exc))"
   ]
  },
  {
   "cell_type": "code",
   "execution_count": null,
   "metadata": {},
   "outputs": [],
   "source": [
    "def SubPlotData(ax, w, b):\n",
    "    ax.set_title('C = ' + str(C))\n",
    "    xp = np.linspace(np.min(X[:,0]), np.max(X[:,0]), 100)\n",
    "    yp = - (w[0].value*xp + b.value)/w[1].value\n",
    "    yp1 = - (w[0].value*xp + b.value - 1)/w[1].value\n",
    "    yp0 = - (w[0].value*xp + b.value + 1)/w[1].value\n",
    "    \n",
    "    XX, yy = pd.DataFrame(X), pd.DataFrame(y)\n",
    "    XX1, XX2 = XX[yy[0]==1], XX[yy[0]==-1]\n",
    "    \n",
    "    plt.scatter(XX1[0],XX1[1],color='blue')\n",
    "    plt.scatter(XX2[0],XX2[1],color='red')\n",
    "    plt.plot(xp,yp,'k-',xp,yp1,'m--',xp,yp0,'g--')"
   ]
  },
  {
   "cell_type": "markdown",
   "metadata": {},
   "source": [
    "### Try different penalty parameters C"
   ]
  },
  {
   "cell_type": "code",
   "execution_count": null,
   "metadata": {},
   "outputs": [],
   "source": [
    "Clist = [0, 0.001, 0.01, 1, 1000000]\n",
    "\n",
    "with mpl.rc_context(rc={'font.family': 'serif', 'font.size': 11}):\n",
    "    fig = plt.figure(figsize=(16,3.5))\n",
    "    for i in range(len(Clist)):\n",
    "        C = Clist[i]\n",
    "        objective = cp.Minimize(0.5*cp.sum_squares(w)+C*cp.sum_entries(xi))\n",
    "        prob = cp.Problem(objective, constraints)\n",
    "        try:\n",
    "            result = prob.solve()\n",
    "            ax = fig.add_subplot(int('14'+str(i+1)))\n",
    "            SubPlotData(ax,w,b)\n",
    "        except Exception as exc:\n",
    "            print('Error: C = ' + str(C) + ': {}'.format(exc))"
   ]
  }
 ],
 "metadata": {
  "kernelspec": {
   "display_name": "Python 3",
   "language": "python",
   "name": "python3"
  },
  "language_info": {
   "codemirror_mode": {
    "name": "ipython",
    "version": 3
   },
   "file_extension": ".py",
   "mimetype": "text/x-python",
   "name": "python",
   "nbconvert_exporter": "python",
   "pygments_lexer": "ipython3",
   "version": "3.6.5"
  }
 },
 "nbformat": 4,
 "nbformat_minor": 2
}
